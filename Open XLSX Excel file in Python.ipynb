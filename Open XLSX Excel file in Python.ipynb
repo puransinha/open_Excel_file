{
 "cells": [
  {
   "cell_type": "code",
   "execution_count": 1,
   "id": "threatened-recognition",
   "metadata": {},
   "outputs": [],
   "source": [
    "# How to open the Excel File in Python ******"
   ]
  },
  {
   "cell_type": "code",
   "execution_count": null,
   "id": "potential-recall",
   "metadata": {},
   "outputs": [],
   "source": [
    "# You need to install Engine = 'openpyxl'\n",
    "# otherwise it will not support with latest Python version"
   ]
  },
  {
   "cell_type": "code",
   "execution_count": null,
   "id": "impaired-hello",
   "metadata": {},
   "outputs": [],
   "source": [
    "# Example to run the xlsx\n",
    "df = pd.read_excel(\"myFile.xlsx\", sheet_name=2, engine='openpyxl')"
   ]
  }
 ],
 "metadata": {
  "kernelspec": {
   "display_name": "Python 3",
   "language": "python",
   "name": "python3"
  },
  "language_info": {
   "codemirror_mode": {
    "name": "ipython",
    "version": 3
   },
   "file_extension": ".py",
   "mimetype": "text/x-python",
   "name": "python",
   "nbconvert_exporter": "python",
   "pygments_lexer": "ipython3",
   "version": "3.6.9"
  }
 },
 "nbformat": 4,
 "nbformat_minor": 5
}
